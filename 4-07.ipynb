{
 "metadata": {
  "language_info": {
   "codemirror_mode": {
    "name": "ipython",
    "version": 3
   },
   "file_extension": ".py",
   "mimetype": "text/x-python",
   "name": "python",
   "nbconvert_exporter": "python",
   "pygments_lexer": "ipython3",
   "version": "3.8.2-final"
  },
  "orig_nbformat": 2,
  "kernelspec": {
   "name": "python_defaultSpec_1597513968837",
   "display_name": "Python 3.8.2 32-bit"
  }
 },
 "nbformat": 4,
 "nbformat_minor": 2,
 "cells": [
  {
   "cell_type": "code",
   "execution_count": 2,
   "metadata": {},
   "outputs": [],
   "source": [
    "def outer(a,b):\n",
    "    print('outer function (a,b) = ({},{})'.format(a,b))\n",
    "    def inner(c,d):\n",
    "        print('inner function (c,d) = ({},{})'.format(c,d))\n",
    "        return c * d\n",
    "    return inner(a,b)"
   ]
  },
  {
   "cell_type": "code",
   "execution_count": 4,
   "metadata": {
    "tags": []
   },
   "outputs": [
    {
     "output_type": "stream",
     "name": "stdout",
     "text": "outer function (a,b) = (4,7)\ninner function (c,d) = (4,7)\n28\n"
    }
   ],
   "source": [
    "a = outer(4,7)\n",
    "print(a)"
   ]
  },
  {
   "cell_type": "code",
   "execution_count": 6,
   "metadata": {},
   "outputs": [
    {
     "output_type": "execute_result",
     "data": {
      "text/plain": "\"We are the Knights who say: 'Ni!'\""
     },
     "metadata": {},
     "execution_count": 6
    }
   ],
   "source": [
    "def knights(saying):\n",
    "    def inner(quote):\n",
    "        return \"We are the Knights who say: '%s'\" % quote\n",
    "    return inner(saying)\n",
    "\n",
    "knights('Ni!')"
   ]
  },
  {
   "cell_type": "code",
   "execution_count": 8,
   "metadata": {},
   "outputs": [
    {
     "output_type": "error",
     "ename": "SyntaxError",
     "evalue": "invalid syntax (<ipython-input-8-472fde08be60>, line 14)",
     "traceback": [
      "\u001b[1;36m  File \u001b[1;32m\"<ipython-input-8-472fde08be60>\"\u001b[1;36m, line \u001b[1;32m14\u001b[0m\n\u001b[1;33m    circle_area_precise = make_circle _area_func(pi = 3.1415926535)\u001b[0m\n\u001b[1;37m                                      ^\u001b[0m\n\u001b[1;31mSyntaxError\u001b[0m\u001b[1;31m:\u001b[0m invalid syntax\n"
     ]
    }
   ],
   "source": [
    "def make_circle_area_func(pi = 3.14):\n",
    "    '''円の面積を計算する関数を作る'''\n",
    "\n",
    "    def circle_area(radius):\n",
    "        '''円の面積を計算する'''\n",
    "\n",
    "        return radius * radius * pi\n",
    "\n",
    "    return circle_area\n",
    "\n",
    "#piが初期設定(3.14)のとき\n",
    "circle_area_default = make_circle_area_func()\n",
    "#piが3.1415926535　のとき\n",
    "circle_area_precise = make_circle _area_func(pi = 3.1415926535)"
   ]
  },
  {
   "cell_type": "code",
   "execution_count": 10,
   "metadata": {},
   "outputs": [
    {
     "output_type": "error",
     "ename": "NameError",
     "evalue": "name 'circle_area_default' is not defined",
     "traceback": [
      "\u001b[1;31m---------------------------------------------------------------------------\u001b[0m",
      "\u001b[1;31mNameError\u001b[0m                                 Traceback (most recent call last)",
      "\u001b[1;32m<ipython-input-10-377d55e6fc7a>\u001b[0m in \u001b[0;36m<module>\u001b[1;34m\u001b[0m\n\u001b[1;32m----> 1\u001b[1;33m \u001b[0mtype\u001b[0m\u001b[1;33m(\u001b[0m\u001b[0mcircle_area_default\u001b[0m\u001b[1;33m)\u001b[0m\u001b[1;33m,\u001b[0m\u001b[0mtype\u001b[0m\u001b[1;33m(\u001b[0m\u001b[0mcircle_area_precise\u001b[0m\u001b[1;33m)\u001b[0m\u001b[1;33m\u001b[0m\u001b[1;33m\u001b[0m\u001b[0m\n\u001b[0m",
      "\u001b[1;31mNameError\u001b[0m: name 'circle_area_default' is not defined"
     ]
    }
   ],
   "source": [
    "type(circle_area_default),type(circle_area_precise)"
   ]
  },
  {
   "cell_type": "code",
   "execution_count": 12,
   "metadata": {},
   "outputs": [
    {
     "output_type": "error",
     "ename": "NameError",
     "evalue": "name 'cirle_area_default' is not defined",
     "traceback": [
      "\u001b[1;31m---------------------------------------------------------------------------\u001b[0m",
      "\u001b[1;31mNameError\u001b[0m                                 Traceback (most recent call last)",
      "\u001b[1;32m<ipython-input-12-2c956b7b26c4>\u001b[0m in \u001b[0;36m<module>\u001b[1;34m\u001b[0m\n\u001b[0;32m      1\u001b[0m \u001b[1;31m#半径2の円の面積、piの精度が異なる\u001b[0m\u001b[1;33m\u001b[0m\u001b[1;33m\u001b[0m\u001b[1;33m\u001b[0m\u001b[0m\n\u001b[1;32m----> 2\u001b[1;33m \u001b[0mprint\u001b[0m\u001b[1;33m(\u001b[0m\u001b[0mcirle_area_default\u001b[0m\u001b[1;33m(\u001b[0m\u001b[1;36m2\u001b[0m\u001b[1;33m)\u001b[0m\u001b[1;33m)\u001b[0m\u001b[1;33m\u001b[0m\u001b[1;33m\u001b[0m\u001b[0m\n\u001b[0m\u001b[0;32m      3\u001b[0m \u001b[0mprint\u001b[0m\u001b[1;33m(\u001b[0m\u001b[0mcirle_area_precise\u001b[0m\u001b[1;33m(\u001b[0m\u001b[1;36m2\u001b[0m\u001b[1;33m)\u001b[0m\u001b[1;33m)\u001b[0m\u001b[1;33m\u001b[0m\u001b[1;33m\u001b[0m\u001b[0m\n",
      "\u001b[1;31mNameError\u001b[0m: name 'cirle_area_default' is not defined"
     ]
    }
   ],
   "source": [
    "#半径2の円の面積、piの精度が異なる\n",
    "print(cirle_area_default(2))\n",
    "print(cirle_area_precise(2))"
   ]
  },
  {
   "cell_type": "code",
   "execution_count": 14,
   "metadata": {
    "tags": []
   },
   "outputs": [
    {
     "output_type": "stream",
     "name": "stdout",
     "text": "1\n2\n3\n"
    }
   ],
   "source": [
    "def makecounter():\n",
    "    '''呼ばれるたびにカウントを1ずつ増やすカウンタ関数を生成する'''\n",
    "    n = 0\n",
    "    def count():\n",
    "        nonlocal n\n",
    "        n += 1\n",
    "        return n\n",
    "    return count\n",
    "\n",
    "counter = makecounter()\n",
    "print(counter())\n",
    "print(counter())\n",
    "print(counter())"
   ]
  },
  {
   "cell_type": "code",
   "execution_count": 16,
   "metadata": {
    "tags": []
   },
   "outputs": [
    {
     "output_type": "stream",
     "name": "stdout",
     "text": "==== flag: Red\nSelection is 0 which may be the default\n====\n==== flag: Blue\nYour choise is 1\n====\n"
    }
   ],
   "source": [
    "def show_message(num=0):\n",
    "    \"\"\"入力に応じて違うメッセージを表示する\n",
    "\n",
    "    入力：0 or それ以外\n",
    "    \"\"\"\n",
    "\n",
    "    if num == 0:\n",
    "        flag = \"Red\"\n",
    "        print(\"==== flag:\",flag)\n",
    "        print(\"Selection is\",num,\"which may be the default\")\n",
    "        print(\"====\")\n",
    "    else:\n",
    "        flag = \"Blue\"\n",
    "        print(\"==== flag:\",flag)\n",
    "        print(\"Your choise is\",num)\n",
    "        print(\"====\")\n",
    "\n",
    "show_message(0)\n",
    "show_message(1)"
   ]
  },
  {
   "cell_type": "code",
   "execution_count": 18,
   "metadata": {
    "tags": []
   },
   "outputs": [
    {
     "output_type": "stream",
     "name": "stdout",
     "text": "==== flag: Red\nSelection is  0 which may be the default\n====\n==== flag: Blue\nYour choice is 1\n====\n"
    }
   ],
   "source": [
    "def show_message(num=0):\n",
    "    \"\"\"入力値に応じて違うメッセージを表示する\n",
    "\n",
    "    入力：0 or それ以外\n",
    "    \"\"\"\n",
    "\n",
    "    def decolate(func):\n",
    "        if num == 0:\n",
    "            flag = \"Red\"\n",
    "        else:\n",
    "            flag = \"Blue\"\n",
    "\n",
    "        print(\"==== flag:\",flag)\n",
    "        func()\n",
    "        print(\"====\")\n",
    "\n",
    "    def show_selection(num=num):\n",
    "        if num == 0:\n",
    "            print(\"Selection is \",num,\"which may be the default\")\n",
    "        else:\n",
    "            print(\"Your choice is\",num)\n",
    "\n",
    "    decolate(show_selection)\n",
    "\n",
    "show_message(0)\n",
    "show_message(1)"
   ]
  },
  {
   "cell_type": "code",
   "execution_count": 20,
   "metadata": {},
   "outputs": [],
   "source": [
    "def make_addfunc():\n",
    "    def add(x,y):\n",
    "        return x + y\n",
    "    return add"
   ]
  },
  {
   "cell_type": "code",
   "execution_count": 22,
   "metadata": {
    "tags": []
   },
   "outputs": [
    {
     "output_type": "stream",
     "name": "stdout",
     "text": "11\n"
    }
   ],
   "source": [
    "adder = make_addfunc()\n",
    "answer = adder(1,10)\n",
    "print(answer)"
   ]
  },
  {
   "cell_type": "code",
   "execution_count": null,
   "metadata": {},
   "outputs": [],
   "source": []
  }
 ]
}